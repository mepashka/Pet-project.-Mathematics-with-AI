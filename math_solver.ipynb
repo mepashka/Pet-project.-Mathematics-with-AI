{
 "cells": [
  {
   "cell_type": "markdown",
   "id": "ddd37f5d",
   "metadata": {
    "toc": true
   },
   "source": [
    "<h1>Table of Contents<span class=\"tocSkip\"></span></h1>\n",
    "<div class=\"toc\"><ul class=\"toc-item\"></ul></div>"
   ]
  },
  {
   "cell_type": "markdown",
   "id": "d9db7dfe",
   "metadata": {},
   "source": [
    "**В данном коде добавлены две новые функции:**\n",
    "- validate_math_problem(problem): Эта функция может быть использована для проверки валидности математической задачи. Если задача валидна, функция должна вернуть True, в противном случае - False.\n",
    "- get_user_input(message): Эта функция предназначена для получения пользовательского ввода.\n",
    "- в обновленной функции get_user_input(message) добавлена логика, чтобы запросить у пользователя ввод и проверить его на корректность. Если пользователь ввел пустую строку, будет выведено сообщение об ошибке, и запрос на ввод будет повторен до получения корректного ввода.\n",
    "- после внесения изменений код будет ловить исключение SympifyError, если введенная математическая задача содержит некорректный синтаксис, и выводить соответствующее сообщение об ошибке."
   ]
  },
  {
   "cell_type": "code",
   "execution_count": 3,
   "id": "25f535c9",
   "metadata": {},
   "outputs": [],
   "source": [
    "import sympy as sp\n",
    "\n",
    "def solve_math_problem(problem):\n",
    "    # Создаем символьные переменные для неизвестных величин\n",
    "    symbols = sp.symbols('x y z')\n",
    "    \n",
    "    # Преобразуем строку с математической задачей в объект типа \"выражение\"\n",
    "    try:\n",
    "        expr = sp.sympify(problem)\n",
    "    except sp.SympifyError:\n",
    "        return \"Некорректная математическая задача.\"\n",
    "    \n",
    "    # Создаем словарь для хранения решений\n",
    "    solutions = {}\n",
    "    \n",
    "    # Пытаемся решить задачу для каждой символьной переменной\n",
    "    for symbol in symbols:\n",
    "        try:\n",
    "            solution = sp.solve(expr, symbol)\n",
    "            solutions[symbol] = solution\n",
    "        except sp.SympifyError:\n",
    "            solutions[symbol] = \"Невозможно решить задачу.\"\n",
    "    \n",
    "    return solutions\n",
    "\n",
    "# Функция для проверки валидности математической задачи\n",
    "def validate_math_problem(problem):\n",
    "    # Добавьте свою логику проверки валидности задачи\n",
    "    # Верните True, если задача валидна, и False в противном случае\n",
    "    return True\n",
    "\n",
    "# Функция для получения пользовательского ввода\n",
    "def get_user_input(message):\n",
    "    while True:\n",
    "        user_input = input(message)\n",
    "        if user_input:\n",
    "            return user_input\n",
    "        print(\"Некорректный ввод. Попробуйте еще раз.\")\n",
    "\n",
    "# Пример использования\n",
    "def main():\n",
    "    problem = get_user_input(\"Введите математическую задачу: \")\n",
    "    \n",
    "    if validate_math_problem(problem):\n",
    "        solutions = solve_math_problem(problem)\n",
    "        \n",
    "        # Выводим решения для каждой неизвестной величины\n",
    "        for symbol, solution in solutions.items():\n",
    "            print(f\"Решение для {symbol}: {solution}\")\n",
    "    else:\n",
    "        print(\"Введенная задача некорректна.\")\n",
    "\n",
    "if __name__ == '__main__':\n",
    "    main()\n"
   ]
  }
 ],
 "metadata": {
  "kernelspec": {
   "display_name": "Python 3 (ipykernel)",
   "language": "python",
   "name": "python3"
  },
  "language_info": {
   "codemirror_mode": {
    "name": "ipython",
    "version": 3
   },
   "file_extension": ".py",
   "mimetype": "text/x-python",
   "name": "python",
   "nbconvert_exporter": "python",
   "pygments_lexer": "ipython3",
   "version": "3.9.13"
  },
  "toc": {
   "base_numbering": 1,
   "nav_menu": {},
   "number_sections": true,
   "sideBar": true,
   "skip_h1_title": true,
   "title_cell": "Table of Contents",
   "title_sidebar": "Contents",
   "toc_cell": true,
   "toc_position": {},
   "toc_section_display": true,
   "toc_window_display": false
  }
 },
 "nbformat": 4,
 "nbformat_minor": 5
}
