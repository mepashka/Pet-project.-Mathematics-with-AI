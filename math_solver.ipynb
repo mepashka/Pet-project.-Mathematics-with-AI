{
 "cells": [
  {
   "cell_type": "code",
   "execution_count": 3,
   "id": "25f535c9",
   "metadata": {},
   "outputs": [],
   "source": [
    "import sympy as sp\n",
    "\n",
    "def solve_math_problem(problem):\n",
    "    # Создаем символьные переменные для неизвестных величин\n",
    "    symbols = sp.symbols('x y z')\n",
    "    \n",
    "    # Преобразуем строку с математической задачей в объект типа \"выражение\"\n",
    "    expr = sp.sympify(problem)\n",
    "    \n",
    "    # Создаем список для хранения решений\n",
    "    solutions = []\n",
    "    \n",
    "    # Пытаемся решить задачу для каждой символьной переменной\n",
    "    for symbol in symbols:\n",
    "        try:\n",
    "            solution = sp.solve(expr, symbol)\n",
    "            solutions.append(solution)\n",
    "        except sp.SympifyError:\n",
    "            solutions.append(\"Невозможно решить задачу.\")\n",
    "    \n",
    "    return solutions\n",
    "\n",
    "# Пример использования\n",
    "problem = input(\"Введите математическую задачу: \")\n",
    "solutions = solve_math_problem(problem)\n",
    "\n",
    "# Выводим решения для каждой неизвестной величины\n",
    "for i, solution in enumerate(solutions):\n",
    "    variable = chr(ord('x') + i)  # Преобразуем числовой индекс в символ\n",
    "    print(f\"Решение для {variable}: {solution}\")\n"
   ]
  }
 ],
 "metadata": {
  "kernelspec": {
   "display_name": "Python 3 (ipykernel)",
   "language": "python",
   "name": "python3"
  },
  "language_info": {
   "codemirror_mode": {
    "name": "ipython",
    "version": 3
   },
   "file_extension": ".py",
   "mimetype": "text/x-python",
   "name": "python",
   "nbconvert_exporter": "python",
   "pygments_lexer": "ipython3",
   "version": "3.9.13"
  },
  "toc": {
   "base_numbering": 1,
   "nav_menu": {},
   "number_sections": true,
   "sideBar": true,
   "skip_h1_title": true,
   "title_cell": "Table of Contents",
   "title_sidebar": "Contents",
   "toc_cell": true,
   "toc_position": {},
   "toc_section_display": true,
   "toc_window_display": false
  }
 },
 "nbformat": 4,
 "nbformat_minor": 5
}

