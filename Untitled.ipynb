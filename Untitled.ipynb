{
 "cells": [
  {
   "cell_type": "code",
   "execution_count": 1,
   "id": "a23a8e88",
   "metadata": {},
   "outputs": [],
   "source": [
    "import sympy as sp"
   ]
  },
  {
   "cell_type": "code",
   "execution_count": 2,
   "id": "94e63f00",
   "metadata": {},
   "outputs": [],
   "source": [
    "def solve_math_problem(problem):\n",
    "    # Создаем символьную переменную для неизвестной величины\n",
    "    x = sp.Symbol('x')\n",
    "    \n",
    "    # Пытаемся решить задачу\n",
    "    try:\n",
    "        solution = sp.solve(problem, x)\n",
    "        return solution\n",
    "    except sp.SympifyError:\n",
    "        return \"Невозможно решить задачу.\""
   ]
  },
  {
   "cell_type": "code",
   "execution_count": 3,
   "id": "99434b40",
   "metadata": {},
   "outputs": [
    {
     "name": "stdout",
     "output_type": "stream",
     "text": [
      "Введите математическую задачу: 2+5\n",
      "Решение: []\n"
     ]
    }
   ],
   "source": [
    "# Пример использования\n",
    "problem = input(\"Введите математическую задачу: \")\n",
    "solution = solve_math_problem(problem)\n",
    "print(\"Решение:\", solution)"
   ]
  }
 ],
 "metadata": {
  "kernelspec": {
   "display_name": "Python 3 (ipykernel)",
   "language": "python",
   "name": "python3"
  },
  "language_info": {
   "codemirror_mode": {
    "name": "ipython",
    "version": 3
   },
   "file_extension": ".py",
   "mimetype": "text/x-python",
   "name": "python",
   "nbconvert_exporter": "python",
   "pygments_lexer": "ipython3",
   "version": "3.9.13"
  },
  "toc": {
   "base_numbering": 1,
   "nav_menu": {},
   "number_sections": true,
   "sideBar": true,
   "skip_h1_title": true,
   "title_cell": "Table of Contents",
   "title_sidebar": "Contents",
   "toc_cell": true,
   "toc_position": {},
   "toc_section_display": true,
   "toc_window_display": false
  }
 },
 "nbformat": 4,
 "nbformat_minor": 5
}
